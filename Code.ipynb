{
 "cells": [
  {
   "cell_type": "markdown",
   "metadata": {},
   "source": [
    "<h2 align=\"center\">Retailers Churn Prediction for MaxAB</h2>\n",
    "\n",
    "<img src=\"https://media-exp1.licdn.com/dms/image/C4E05AQG1PqVFSqFaqA/videocover-high/0/1648566596962?e=2147483647&v=beta&t=JT4cGY1kGVkhC4K-EnbQSasK5I8f8ye1TTY0T3GPBc0\">"
   ]
  },
  {
   "cell_type": "markdown",
   "metadata": {},
   "source": [
    "# Table of Contents :\n",
    "* [***Loading and Cleaning Data***](#loadingdata)\n",
    "* [***CLV Model***](#clv)\n",
    "* [***Conclusion***](#c)\n",
    "* [***Prediction***](#p)\n"
   ]
  },
  {
   "cell_type": "markdown",
   "metadata": {},
   "source": [
    "# Loading and Cleaning Data<a class=\"anchor\" id=\"loadingdata\"></a>"
   ]
  },
  {
   "cell_type": "code",
   "execution_count": 2,
   "metadata": {},
   "outputs": [
    {
     "data": {
      "text/html": [
       "<div>\n",
       "<style scoped>\n",
       "    .dataframe tbody tr th:only-of-type {\n",
       "        vertical-align: middle;\n",
       "    }\n",
       "\n",
       "    .dataframe tbody tr th {\n",
       "        vertical-align: top;\n",
       "    }\n",
       "\n",
       "    .dataframe thead th {\n",
       "        text-align: right;\n",
       "    }\n",
       "</style>\n",
       "<table border=\"1\" class=\"dataframe\">\n",
       "  <thead>\n",
       "    <tr style=\"text-align: right;\">\n",
       "      <th></th>\n",
       "      <th>id</th>\n",
       "      <th>segment</th>\n",
       "      <th>order_month</th>\n",
       "      <th>order_count</th>\n",
       "      <th>cats_count</th>\n",
       "      <th>brands_count</th>\n",
       "      <th>sku_count</th>\n",
       "      <th>nmv_month</th>\n",
       "    </tr>\n",
       "  </thead>\n",
       "  <tbody>\n",
       "    <tr>\n",
       "      <th>0</th>\n",
       "      <td>77</td>\n",
       "      <td>bulk</td>\n",
       "      <td>2021-02-01</td>\n",
       "      <td>2</td>\n",
       "      <td>4</td>\n",
       "      <td>5</td>\n",
       "      <td>9</td>\n",
       "      <td>2316.00</td>\n",
       "    </tr>\n",
       "    <tr>\n",
       "      <th>1</th>\n",
       "      <td>77</td>\n",
       "      <td>bulk</td>\n",
       "      <td>2021-03-01</td>\n",
       "      <td>2</td>\n",
       "      <td>3</td>\n",
       "      <td>6</td>\n",
       "      <td>13</td>\n",
       "      <td>4333.00</td>\n",
       "    </tr>\n",
       "    <tr>\n",
       "      <th>2</th>\n",
       "      <td>77</td>\n",
       "      <td>bulk</td>\n",
       "      <td>2021-04-01</td>\n",
       "      <td>1</td>\n",
       "      <td>2</td>\n",
       "      <td>3</td>\n",
       "      <td>3</td>\n",
       "      <td>2729.00</td>\n",
       "    </tr>\n",
       "    <tr>\n",
       "      <th>3</th>\n",
       "      <td>78</td>\n",
       "      <td>dairy</td>\n",
       "      <td>2019-06-01</td>\n",
       "      <td>3</td>\n",
       "      <td>13</td>\n",
       "      <td>19</td>\n",
       "      <td>46</td>\n",
       "      <td>19227.00</td>\n",
       "    </tr>\n",
       "    <tr>\n",
       "      <th>4</th>\n",
       "      <td>78</td>\n",
       "      <td>dairy</td>\n",
       "      <td>2019-07-01</td>\n",
       "      <td>2</td>\n",
       "      <td>10</td>\n",
       "      <td>16</td>\n",
       "      <td>25</td>\n",
       "      <td>6744.00</td>\n",
       "    </tr>\n",
       "    <tr>\n",
       "      <th>5</th>\n",
       "      <td>78</td>\n",
       "      <td>dairy</td>\n",
       "      <td>2019-08-01</td>\n",
       "      <td>1</td>\n",
       "      <td>4</td>\n",
       "      <td>6</td>\n",
       "      <td>22</td>\n",
       "      <td>6035.50</td>\n",
       "    </tr>\n",
       "    <tr>\n",
       "      <th>6</th>\n",
       "      <td>78</td>\n",
       "      <td>dairy</td>\n",
       "      <td>2019-09-01</td>\n",
       "      <td>1</td>\n",
       "      <td>7</td>\n",
       "      <td>8</td>\n",
       "      <td>8</td>\n",
       "      <td>2952.00</td>\n",
       "    </tr>\n",
       "    <tr>\n",
       "      <th>7</th>\n",
       "      <td>78</td>\n",
       "      <td>dairy</td>\n",
       "      <td>2019-10-01</td>\n",
       "      <td>2</td>\n",
       "      <td>7</td>\n",
       "      <td>9</td>\n",
       "      <td>18</td>\n",
       "      <td>4729.25</td>\n",
       "    </tr>\n",
       "    <tr>\n",
       "      <th>8</th>\n",
       "      <td>78</td>\n",
       "      <td>dairy</td>\n",
       "      <td>2019-11-01</td>\n",
       "      <td>2</td>\n",
       "      <td>6</td>\n",
       "      <td>9</td>\n",
       "      <td>21</td>\n",
       "      <td>6102.00</td>\n",
       "    </tr>\n",
       "    <tr>\n",
       "      <th>9</th>\n",
       "      <td>78</td>\n",
       "      <td>dairy</td>\n",
       "      <td>2019-12-01</td>\n",
       "      <td>6</td>\n",
       "      <td>21</td>\n",
       "      <td>38</td>\n",
       "      <td>79</td>\n",
       "      <td>22221.75</td>\n",
       "    </tr>\n",
       "  </tbody>\n",
       "</table>\n",
       "</div>"
      ],
      "text/plain": [
       "   id segment order_month  order_count  cats_count  brands_count  sku_count  \\\n",
       "0  77    bulk  2021-02-01            2           4             5          9   \n",
       "1  77    bulk  2021-03-01            2           3             6         13   \n",
       "2  77    bulk  2021-04-01            1           2             3          3   \n",
       "3  78   dairy  2019-06-01            3          13            19         46   \n",
       "4  78   dairy  2019-07-01            2          10            16         25   \n",
       "5  78   dairy  2019-08-01            1           4             6         22   \n",
       "6  78   dairy  2019-09-01            1           7             8          8   \n",
       "7  78   dairy  2019-10-01            2           7             9         18   \n",
       "8  78   dairy  2019-11-01            2           6             9         21   \n",
       "9  78   dairy  2019-12-01            6          21            38         79   \n",
       "\n",
       "   nmv_month  \n",
       "0    2316.00  \n",
       "1    4333.00  \n",
       "2    2729.00  \n",
       "3   19227.00  \n",
       "4    6744.00  \n",
       "5    6035.50  \n",
       "6    2952.00  \n",
       "7    4729.25  \n",
       "8    6102.00  \n",
       "9   22221.75  "
      ]
     },
     "metadata": {},
     "output_type": "display_data"
    },
    {
     "data": {
      "text/html": [
       "<div>\n",
       "<style scoped>\n",
       "    .dataframe tbody tr th:only-of-type {\n",
       "        vertical-align: middle;\n",
       "    }\n",
       "\n",
       "    .dataframe tbody tr th {\n",
       "        vertical-align: top;\n",
       "    }\n",
       "\n",
       "    .dataframe thead th {\n",
       "        text-align: right;\n",
       "    }\n",
       "</style>\n",
       "<table border=\"1\" class=\"dataframe\">\n",
       "  <thead>\n",
       "    <tr style=\"text-align: right;\">\n",
       "      <th></th>\n",
       "      <th>id</th>\n",
       "      <th>order_count</th>\n",
       "      <th>cats_count</th>\n",
       "      <th>brands_count</th>\n",
       "      <th>sku_count</th>\n",
       "      <th>nmv_month</th>\n",
       "    </tr>\n",
       "  </thead>\n",
       "  <tbody>\n",
       "    <tr>\n",
       "      <th>count</th>\n",
       "      <td>99998.000000</td>\n",
       "      <td>99998.000000</td>\n",
       "      <td>99998.000000</td>\n",
       "      <td>99998.000000</td>\n",
       "      <td>99998.000000</td>\n",
       "      <td>99998.000000</td>\n",
       "    </tr>\n",
       "    <tr>\n",
       "      <th>mean</th>\n",
       "      <td>10660.636253</td>\n",
       "      <td>3.281496</td>\n",
       "      <td>11.803836</td>\n",
       "      <td>18.858827</td>\n",
       "      <td>40.028801</td>\n",
       "      <td>8994.551482</td>\n",
       "    </tr>\n",
       "    <tr>\n",
       "      <th>std</th>\n",
       "      <td>4824.091102</td>\n",
       "      <td>3.265145</td>\n",
       "      <td>9.119837</td>\n",
       "      <td>17.787896</td>\n",
       "      <td>44.715043</td>\n",
       "      <td>14732.504469</td>\n",
       "    </tr>\n",
       "    <tr>\n",
       "      <th>min</th>\n",
       "      <td>77.000000</td>\n",
       "      <td>1.000000</td>\n",
       "      <td>1.000000</td>\n",
       "      <td>1.000000</td>\n",
       "      <td>1.000000</td>\n",
       "      <td>-16400.250000</td>\n",
       "    </tr>\n",
       "    <tr>\n",
       "      <th>25%</th>\n",
       "      <td>7175.000000</td>\n",
       "      <td>1.000000</td>\n",
       "      <td>5.000000</td>\n",
       "      <td>6.000000</td>\n",
       "      <td>10.000000</td>\n",
       "      <td>1675.000000</td>\n",
       "    </tr>\n",
       "    <tr>\n",
       "      <th>50%</th>\n",
       "      <td>10754.000000</td>\n",
       "      <td>2.000000</td>\n",
       "      <td>9.000000</td>\n",
       "      <td>13.000000</td>\n",
       "      <td>24.000000</td>\n",
       "      <td>4010.645000</td>\n",
       "    </tr>\n",
       "    <tr>\n",
       "      <th>75%</th>\n",
       "      <td>14761.000000</td>\n",
       "      <td>4.000000</td>\n",
       "      <td>17.000000</td>\n",
       "      <td>26.000000</td>\n",
       "      <td>52.000000</td>\n",
       "      <td>10147.100000</td>\n",
       "    </tr>\n",
       "    <tr>\n",
       "      <th>max</th>\n",
       "      <td>18699.000000</td>\n",
       "      <td>36.000000</td>\n",
       "      <td>49.000000</td>\n",
       "      <td>132.000000</td>\n",
       "      <td>460.000000</td>\n",
       "      <td>474711.420000</td>\n",
       "    </tr>\n",
       "  </tbody>\n",
       "</table>\n",
       "</div>"
      ],
      "text/plain": [
       "                 id   order_count    cats_count  brands_count     sku_count  \\\n",
       "count  99998.000000  99998.000000  99998.000000  99998.000000  99998.000000   \n",
       "mean   10660.636253      3.281496     11.803836     18.858827     40.028801   \n",
       "std     4824.091102      3.265145      9.119837     17.787896     44.715043   \n",
       "min       77.000000      1.000000      1.000000      1.000000      1.000000   \n",
       "25%     7175.000000      1.000000      5.000000      6.000000     10.000000   \n",
       "50%    10754.000000      2.000000      9.000000     13.000000     24.000000   \n",
       "75%    14761.000000      4.000000     17.000000     26.000000     52.000000   \n",
       "max    18699.000000     36.000000     49.000000    132.000000    460.000000   \n",
       "\n",
       "           nmv_month  \n",
       "count   99998.000000  \n",
       "mean     8994.551482  \n",
       "std     14732.504469  \n",
       "min    -16400.250000  \n",
       "25%      1675.000000  \n",
       "50%      4010.645000  \n",
       "75%     10147.100000  \n",
       "max    474711.420000  "
      ]
     },
     "metadata": {},
     "output_type": "display_data"
    },
    {
     "name": "stdout",
     "output_type": "stream",
     "text": [
      "***************************************************\n",
      "<class 'pandas.core.frame.DataFrame'>\n",
      "Int64Index: 99998 entries, 0 to 99997\n",
      "Data columns (total 8 columns):\n",
      " #   Column        Non-Null Count  Dtype         \n",
      "---  ------        --------------  -----         \n",
      " 0   id            99998 non-null  int32         \n",
      " 1   segment       99998 non-null  object        \n",
      " 2   order_month   99998 non-null  datetime64[ns]\n",
      " 3   order_count   99998 non-null  int32         \n",
      " 4   cats_count    99998 non-null  int32         \n",
      " 5   brands_count  99998 non-null  int32         \n",
      " 6   sku_count     99998 non-null  int32         \n",
      " 7   nmv_month     99998 non-null  float64       \n",
      "dtypes: datetime64[ns](1), float64(1), int32(5), object(1)\n",
      "memory usage: 5.0+ MB\n"
     ]
    },
    {
     "data": {
      "text/plain": [
       "None"
      ]
     },
     "metadata": {},
     "output_type": "display_data"
    },
    {
     "name": "stdout",
     "output_type": "stream",
     "text": [
      "***************************************************\n",
      "Total Number of Retailers --> 12784\n",
      "***************************************************\n",
      "Date of First transication\n"
     ]
    },
    {
     "data": {
      "text/plain": [
       "Timestamp('2018-11-01 00:00:00')"
      ]
     },
     "metadata": {},
     "output_type": "display_data"
    },
    {
     "name": "stdout",
     "output_type": "stream",
     "text": [
      "***************************************************\n",
      "Date of last transication\n"
     ]
    },
    {
     "data": {
      "text/plain": [
       "Timestamp('2021-04-01 00:00:00')"
      ]
     },
     "metadata": {},
     "output_type": "display_data"
    }
   ],
   "source": [
    "# import libraries\n",
    "import pandas as pd\n",
    "import numpy as np\n",
    "import seaborn as sns\n",
    "import matplotlib.pyplot as plt\n",
    "import warnings\n",
    "warnings.filterwarnings('ignore')\n",
    "%matplotlib inline\n",
    "plt.style.use('fivethirtyeight')\n",
    "#Loading Data\n",
    "df = pd.read_csv(r'Downloads\\Retailers History.csv')\n",
    "# cleaning Data\n",
    "## drop rows that all null\n",
    "df = df.dropna(how='all')\n",
    "## fill null value in segment col with 'unknown'\n",
    "df = df.fillna(value = 'unknown')\n",
    "## rename ?column? col to id\n",
    "df = df.rename(columns={'?column?':'id'})\n",
    "## edit type of col\n",
    "df[['id','order_count','cats_count','brands_count','sku_count']] = df[['id','order_count',\n",
    "                                                                       'cats_count','brands_count','sku_count']].astype('int')\n",
    "## oreder month col to datetime\n",
    "df.order_month = pd.to_datetime(df.order_month)\n",
    "# display data\n",
    "display(df.head(10))\n",
    "# summary statistics about data\n",
    "display(df.describe())\n",
    "print('***************************************************')\n",
    "# Data information\n",
    "display(df.info())\n",
    "# dispaly Total Number of Retailers\n",
    "print('***************************************************')\n",
    "print(\"Total Number of Retailers --> {0}\".format(df.id.nunique()))\n",
    "print('***************************************************')\n",
    "# display Date of First transication\n",
    "print('Date of First transication')\n",
    "display(df.order_month.min())\n",
    "print('***************************************************')\n",
    "# display Date of last transication\n",
    "print('Date of last transication')\n",
    "display(df.order_month.max())"
   ]
  },
  {
   "cell_type": "markdown",
   "metadata": {},
   "source": [
    "# CLV (customer lifetime value)<a class=\"anchor\" id=\"clv\"></a>\n",
    "\n",
    "\n"
   ]
  },
  {
   "cell_type": "markdown",
   "metadata": {},
   "source": [
    "\n",
    "<h3 align=\"center\">Prepering Data</h3>"
   ]
  },
  {
   "cell_type": "markdown",
   "metadata": {},
   "source": [
    "\n",
    "###  Frequency\n",
    "***represents the number of repeat purchases the customer has made***"
   ]
  },
  {
   "cell_type": "code",
   "execution_count": 3,
   "metadata": {},
   "outputs": [],
   "source": [
    "frequency = df.groupby('id')['id'].count()"
   ]
  },
  {
   "cell_type": "markdown",
   "metadata": {},
   "source": [
    "### T \n",
    "***represents the age of the customer This is equal to the duration between a customer’s first purchase and the end of the period under study***\n"
   ]
  },
  {
   "cell_type": "code",
   "execution_count": 4,
   "metadata": {},
   "outputs": [],
   "source": [
    "first_purchase = df.groupby('id')['order_month'].min()\n",
    "end_of_period = df['order_month'].max()\n",
    "T = (end_of_period - first_purchase) / np.timedelta64(1, 'M')"
   ]
  },
  {
   "cell_type": "markdown",
   "metadata": {},
   "source": [
    "### Recency\n",
    "***represents the age of the customer when they made their most recent purchases\n",
    "This is equal to the duration between a customer’s first purchase and their latest purchase.***\n"
   ]
  },
  {
   "cell_type": "code",
   "execution_count": 5,
   "metadata": {},
   "outputs": [],
   "source": [
    "first_purchase = df.groupby('id')['order_month'].min()\n",
    "last_purchase = df.groupby('id')['order_month'].max()\n",
    "recency = (last_purchase - first_purchase) / np.timedelta64(1, 'M')"
   ]
  },
  {
   "cell_type": "markdown",
   "metadata": {},
   "source": [
    "### Monetary Value \n",
    "***represents the average value of a given customer’s purchases. This is equal to the sum of all a customer’s purchases divided by the total number of purchases***"
   ]
  },
  {
   "cell_type": "code",
   "execution_count": 6,
   "metadata": {},
   "outputs": [],
   "source": [
    "overall_purchases = df.groupby('id')['nmv_month'].sum()\n",
    "monetary_value = overall_purchases/frequency"
   ]
  },
  {
   "cell_type": "markdown",
   "metadata": {},
   "source": [
    "\n",
    "<h3 align=\"center\">Final Data</h3>"
   ]
  },
  {
   "cell_type": "code",
   "execution_count": 7,
   "metadata": {},
   "outputs": [
    {
     "data": {
      "text/html": [
       "<div>\n",
       "<style scoped>\n",
       "    .dataframe tbody tr th:only-of-type {\n",
       "        vertical-align: middle;\n",
       "    }\n",
       "\n",
       "    .dataframe tbody tr th {\n",
       "        vertical-align: top;\n",
       "    }\n",
       "\n",
       "    .dataframe thead th {\n",
       "        text-align: right;\n",
       "    }\n",
       "</style>\n",
       "<table border=\"1\" class=\"dataframe\">\n",
       "  <thead>\n",
       "    <tr style=\"text-align: right;\">\n",
       "      <th></th>\n",
       "      <th>id</th>\n",
       "      <th>frequency</th>\n",
       "      <th>T</th>\n",
       "      <th>recency</th>\n",
       "      <th>monetary_value</th>\n",
       "    </tr>\n",
       "  </thead>\n",
       "  <tbody>\n",
       "    <tr>\n",
       "      <th>0</th>\n",
       "      <td>77</td>\n",
       "      <td>3</td>\n",
       "      <td>1.938438</td>\n",
       "      <td>1.938438</td>\n",
       "      <td>3126.000000</td>\n",
       "    </tr>\n",
       "    <tr>\n",
       "      <th>1</th>\n",
       "      <td>78</td>\n",
       "      <td>17</td>\n",
       "      <td>22.012772</td>\n",
       "      <td>19.055833</td>\n",
       "      <td>12225.891176</td>\n",
       "    </tr>\n",
       "    <tr>\n",
       "      <th>2</th>\n",
       "      <td>79</td>\n",
       "      <td>9</td>\n",
       "      <td>16.000329</td>\n",
       "      <td>16.000329</td>\n",
       "      <td>3337.319259</td>\n",
       "    </tr>\n",
       "    <tr>\n",
       "      <th>3</th>\n",
       "      <td>81</td>\n",
       "      <td>8</td>\n",
       "      <td>16.000329</td>\n",
       "      <td>14.061890</td>\n",
       "      <td>1514.225000</td>\n",
       "    </tr>\n",
       "    <tr>\n",
       "      <th>4</th>\n",
       "      <td>82</td>\n",
       "      <td>4</td>\n",
       "      <td>25.955358</td>\n",
       "      <td>14.948972</td>\n",
       "      <td>892.762500</td>\n",
       "    </tr>\n",
       "  </tbody>\n",
       "</table>\n",
       "</div>"
      ],
      "text/plain": [
       "   id  frequency          T    recency  monetary_value\n",
       "0  77          3   1.938438   1.938438     3126.000000\n",
       "1  78         17  22.012772  19.055833    12225.891176\n",
       "2  79          9  16.000329  16.000329     3337.319259\n",
       "3  81          8  16.000329  14.061890     1514.225000\n",
       "4  82          4  25.955358  14.948972      892.762500"
      ]
     },
     "execution_count": 7,
     "metadata": {},
     "output_type": "execute_result"
    }
   ],
   "source": [
    "data = {'id':frequency.index,'frequency':frequency.values,'T':T.values,\n",
    "        'recency':recency.values,'monetary_value':monetary_value.values}\n",
    "summary = pd.DataFrame(data)\n",
    "summary.head()"
   ]
  },
  {
   "cell_type": "markdown",
   "metadata": {},
   "source": [
    "<h3 align=\"center\">Model training</h3>"
   ]
  },
  {
   "cell_type": "code",
   "execution_count": 8,
   "metadata": {},
   "outputs": [
    {
     "data": {
      "text/plain": [
       "<lifetimes.ModifiedBetaGeoFitter: fitted with 12784 subjects, a: 0.61, alpha: 5.80, b: 4.18, r: 4.55>"
      ]
     },
     "execution_count": 8,
     "metadata": {},
     "output_type": "execute_result"
    }
   ],
   "source": [
    "from lifetimes import ModifiedBetaGeoFitter\n",
    "from lifetimes.plotting import plot_frequency_recency_matrix\n",
    "from lifetimes.plotting import plot_probability_alive_matrix\n",
    "\n",
    "model = ModifiedBetaGeoFitter(penalizer_coef=0.001)\n",
    "model.fit(summary['frequency'],summary['recency'],summary['T'])"
   ]
  },
  {
   "cell_type": "code",
   "execution_count": 9,
   "metadata": {},
   "outputs": [
    {
     "data": {
      "image/png": "[encoded data removed]",
      "text/plain": [
       "<Figure size 864x432 with 2 Axes>"
      ]
     },
     "metadata": {},
     "output_type": "display_data"
    }
   ],
   "source": [
    "plt.figure(figsize=(12,6))\n",
    "plot_frequency_recency_matrix(model)\n",
    "plt.show()"
   ]
  },
  {
   "cell_type": "markdown",
   "metadata": {},
   "source": [
    "**We can see that if a Retailers has bought 10 times from MaxAB, and their latest purchase was when they were 20 month old, then they are your best Retailers (bottom-right). Your coldest Retailers are those that are in the top-right corner: they bought a lot quickly, and we haven’t seen them in months.\n",
    "There’s also that beautiful “tail” around (10,20). That represents the Retailers who buys infrequently, but we’ve seen him or her recently, so they might buy again - we’re not sure if they are dead or just between purchases.**"
   ]
  },
  {
   "cell_type": "code",
   "execution_count": 10,
   "metadata": {
    "scrolled": false
   },
   "outputs": [
    {
     "data": {
      "image/png": "[encoded data removed]",
      "text/plain": [
       "<Figure size 864x432 with 2 Axes>"
      ]
     },
     "metadata": {},
     "output_type": "display_data"
    }
   ],
   "source": [
    "plt.figure(figsize=(12,6))\n",
    "plot_probability_alive_matrix(model)\n",
    "plt.show()"
   ]
  },
  {
   "cell_type": "markdown",
   "metadata": {},
   "source": [
    "**Here We can see the Probability of Retailers of being alive mean that they still our Retailers so it shows that if a Retailers have bought more than one times from MaxAB, and their latest purchase was when they were 10 month old, then they are still consider our Retailers. Your dead Retailers mean that they were not consider our Retailers are those that are in the top-right corner: they bought a lot quickly, and we haven’t seen them in months.**"
   ]
  },
  {
   "cell_type": "markdown",
   "metadata": {},
   "source": [
    "<h2 align=\"center\">Conclusion</h2><a class=\"anchor\" id=\"c\"></a>\n",
    "\n",
    "**So we can Conclude from the two graph that if Retailers have bought more than 10 times and there ages with us are more than 20 months so they have a high Probability to buy from us in the next month**\n",
    "\n",
    "**One cons of this method that it does not take the recent retailers(that have a low age with us) into account and give them a low Probability of buying in the next month and this effect badly on our anaylsis so we should give a recent retailer who bought from us the last 3 months in raw a high Probability of buying next month**\n"
   ]
  },
  {
   "cell_type": "markdown",
   "metadata": {},
   "source": [
    "<h2 align=\"center\">Prediction</h2><a class=\"anchor\" id=\"p\"></a>"
   ]
  },
  {
   "cell_type": "markdown",
   "metadata": {},
   "source": [
    "* ***predict the recent retailers who bought from us the last 3 months in raw***"
   ]
  },
  {
   "cell_type": "code",
   "execution_count": 11,
   "metadata": {},
   "outputs": [],
   "source": [
    "april_retailers=set(df.groupby('order_month').get_group('2021-04-01').id.values)\n",
    "march_retailers=set(df.groupby('order_month').get_group('2021-03-01').id.values)\n",
    "feb_retailers=set(df.groupby('order_month').get_group('2021-02-01').id.values)\n",
    "recent_retailers=set.intersection(april_retailers,march_retailers,feb_retailers)"
   ]
  },
  {
   "cell_type": "markdown",
   "metadata": {},
   "source": [
    "* ***predict retailers whose bought more than 10 times and there ages with us are more than 20 months***"
   ]
  },
  {
   "cell_type": "code",
   "execution_count": 12,
   "metadata": {},
   "outputs": [],
   "source": [
    "best_retailers = set(summary.query(\"frequency>10 and recency>20\").id.values)"
   ]
  },
  {
   "cell_type": "markdown",
   "metadata": {},
   "source": [
    "* ***Get the union of the two methods***"
   ]
  },
  {
   "cell_type": "code",
   "execution_count": 13,
   "metadata": {},
   "outputs": [],
   "source": [
    "not_churn = set.union(recent_retailers,best_retailers)"
   ]
  },
  {
   "cell_type": "markdown",
   "metadata": {},
   "source": [
    "* ***Final prediction***"
   ]
  },
  {
   "cell_type": "code",
   "execution_count": 14,
   "metadata": {},
   "outputs": [],
   "source": [
    "churn = set(df.id.values).difference(not_churn)"
   ]
  },
  {
   "cell_type": "code",
   "execution_count": 15,
   "metadata": {},
   "outputs": [
    {
     "data": {
      "text/html": [
       "<div>\n",
       "<style scoped>\n",
       "    .dataframe tbody tr th:only-of-type {\n",
       "        vertical-align: middle;\n",
       "    }\n",
       "\n",
       "    .dataframe tbody tr th {\n",
       "        vertical-align: top;\n",
       "    }\n",
       "\n",
       "    .dataframe thead th {\n",
       "        text-align: right;\n",
       "    }\n",
       "</style>\n",
       "<table border=\"1\" class=\"dataframe\">\n",
       "  <thead>\n",
       "    <tr style=\"text-align: right;\">\n",
       "      <th></th>\n",
       "      <th>id</th>\n",
       "      <th>who will buy?</th>\n",
       "    </tr>\n",
       "  </thead>\n",
       "  <tbody>\n",
       "    <tr>\n",
       "      <th>0</th>\n",
       "      <td>77</td>\n",
       "      <td>1</td>\n",
       "    </tr>\n",
       "    <tr>\n",
       "      <th>1</th>\n",
       "      <td>78</td>\n",
       "      <td>0</td>\n",
       "    </tr>\n",
       "    <tr>\n",
       "      <th>2</th>\n",
       "      <td>79</td>\n",
       "      <td>1</td>\n",
       "    </tr>\n",
       "    <tr>\n",
       "      <th>3</th>\n",
       "      <td>81</td>\n",
       "      <td>0</td>\n",
       "    </tr>\n",
       "    <tr>\n",
       "      <th>4</th>\n",
       "      <td>82</td>\n",
       "      <td>0</td>\n",
       "    </tr>\n",
       "  </tbody>\n",
       "</table>\n",
       "</div>"
      ],
      "text/plain": [
       "   id  who will buy?\n",
       "0  77              1\n",
       "1  78              0\n",
       "2  79              1\n",
       "3  81              0\n",
       "4  82              0"
      ]
     },
     "execution_count": 15,
     "metadata": {},
     "output_type": "execute_result"
    }
   ],
   "source": [
    "not_churn = pd.DataFrame(not_churn).rename(columns={0:'id'})\n",
    "churn = pd.DataFrame(churn).rename(columns={0:'id'})\n",
    "not_churn['who will buy?'] = 1\n",
    "churn['who will buy?'] = 0\n",
    "submission = pd.concat([churn,not_churn]).sort_values('id',ignore_index=True)\n",
    "submission.head()"
   ]
  },
  {
   "cell_type": "markdown",
   "metadata": {},
   "source": [
    "* ***who will buy? ==1  --> will buy next month***\n",
    "* ***who will buy? ==0  --> won't buy next month***"
   ]
  },
  {
   "cell_type": "code",
   "execution_count": 17,
   "metadata": {},
   "outputs": [
    {
     "data": {
      "image/png": "[encoded data removed]",
      "text/plain": [
       "<Figure size 1440x432 with 1 Axes>"
      ]
     },
     "metadata": {},
     "output_type": "display_data"
    }
   ],
   "source": [
    "plt.figure(figsize=(20,6))\n",
    "churn_rate = submission['who will buy?'].value_counts()\n",
    "plt.pie(churn_rate,explode=[0.1,0.1],autopct='%0.2f%%',shadow=True,labels=[\"won't buy next month\",\"will buy next month\"])\n",
    "plt.title('Inactivity Rate for The Next Month')\n",
    "plt.axis('equal')\n",
    "plt.show()"
   ]
  },
  {
   "cell_type": "markdown",
   "metadata": {},
   "source": [
    "* ***Saving prediction in Excel Format***"
   ]
  },
  {
   "cell_type": "code",
   "execution_count": 18,
   "metadata": {},
   "outputs": [],
   "source": [
    "submission.to_csv('Omar_Mohamed_DSChallenge.csv',index=False)"
   ]
  }
 ],
 "metadata": {
  "hide_input": false,
  "kernelspec": {
   "display_name": "Python 3",
   "language": "python",
   "name": "python3"
  },
  "language_info": {
   "codemirror_mode": {
    "name": "ipython",
    "version": 3
   },
   "file_extension": ".py",
   "mimetype": "text/x-python",
   "name": "python",
   "nbconvert_exporter": "python",
   "pygments_lexer": "ipython3",
   "version": "3.7.3"
  }
 },
 "nbformat": 4,
 "nbformat_minor": 2
}
